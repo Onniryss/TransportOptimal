{
 "cells": [
  {
   "cell_type": "code",
   "execution_count": 2,
   "metadata": {},
   "outputs": [],
   "source": [
    "import numpy as np\n",
    "import matplotlib.pyplot as plt"
   ]
  },
  {
   "cell_type": "code",
   "execution_count": 4,
   "metadata": {},
   "outputs": [],
   "source": [
    "dimension = 2\n",
    "points = 3"
   ]
  },
  {
   "cell_type": "code",
   "execution_count": null,
   "metadata": {},
   "outputs": [],
   "source": [
    "def creerPoints(centre, rayon, nb_points=points, nb_dimensions=dimension):\n",
    "    result = np.zeros((nb_points, nb_dimensions))\n",
    "    for j in range(nb_dimensions):\n",
    "        result[:, j] += centre[j]\n",
    "    for i in range(nb_points):\n",
    "        r = rayon*np.random.uniform(0, 1)\n",
    "        theta = np.random.uniform(0, 2*np.pi)\n",
    "        result[i, 0] += r*np.cos(theta)\n",
    "        result[i, 1] += r*np.sin(theta)\n",
    "    return result\n",
    "\n",
    "def creerClusters(c1, r1, c2, r2, nb_dimensions=dimension, nb_points=points, createur=creerPoints):\n",
    "    return createur(c1, r1, nb_points, nb_dimensions), createur(c2, r2, nb_points, nb_dimensions)\n",
    "\n",
    "def euc_lin(p1, p2, nb_dimensions=dimension, hyperparametre=1):\n",
    "    x = p2-p1\n",
    "    return hyperparametre*np.sqrt(np.dot(x, x))\n",
    "\n",
    "def euc_quadra(p1, p2, nb_dimensions=dimension, hyperparametre=1):\n",
    "    x = p2-p1\n",
    "    return hyperparametre*np.dot(x, x)\n",
    "\n",
    "def cout(p1, p2, nb_dimensions=dimension, fct_cout=euc_quadra, hyperparametre=1):\n",
    "    return fct_cout(p1, p2, nb_dimensions, hyperparametre)\n",
    "\n",
    "def creerMatriceCout(source, destination, fct_cout=euc_quadra, hyperparametre=1):\n",
    "    n, p = source.shape\n",
    "    C = np.zeros((n, n))\n",
    "    for i in range(n):\n",
    "        for j in range(n):\n",
    "            C[i, j] = cout(source[i, :], destination[j, :], fct_cout=fct_cout, hyperparametre=hyperparametre)\n",
    "    return C\n",
    "\n",
    "def trouverCheminsAugmentants(adj, x):\n",
    "    pass\n",
    "\n",
    "def est_sature(i, j, c, phi, psi):\n",
    "    return phi[i]+psi[j] == c[i, j]\n",
    "\n",
    "def hongrois(source, destination):\n",
    "    n, p = source.shape\n",
    "    c = np.array([[1, 4, 2], [3, 5, 6], [2, 1, 3]]) #creerMatriceCout(source, destination)\n",
    "    x = np.zeros_like(c)\n",
    "    adj = np.zeros_like(c)\n",
    "    phi = np.zeros(n)\n",
    "    psi = np.zeros(n)\n",
    "\n",
    "    # initialisation\n",
    "\n",
    "    for i in range(n):\n",
    "        phi[i] = np.min(c[i, :])\n",
    "    \n",
    "    for j in range(n):\n",
    "        psi[j] = np.min(c[:, j]-phi)\n",
    "\n",
    "    for i in range(n):\n",
    "        for j in range(n):\n",
    "            if est_sature(i, j, c, phi, psi):\n",
    "                adj[i, j] = 1\n",
    "\n",
    "    for i in range(n):\n",
    "        for j in range(n):\n",
    "            if (adj[i, j] == 1 and not(1 in x[:, j])):\n",
    "                x[i, j] = 1\n",
    "                break\n",
    "\n",
    "    # boucle principale\n",
    "\n",
    "    return x, phi, psi, adj\n",
    "\n",
    "def afficherClusters(source, destination):\n",
    "    plt.plot(source[:, 0], source[:, 1], 'or')\n",
    "    plt.plot(destination[:, 0], destination[:, 1], 'ob')\n",
    "    plt.show()"
   ]
  },
  {
   "cell_type": "code",
   "execution_count": 54,
   "metadata": {},
   "outputs": [
    {
     "data": {
      "image/png": "[encoded data removed]",
      "text/plain": [
       "<Figure size 640x480 with 1 Axes>"
      ]
     },
     "metadata": {},
     "output_type": "display_data"
    },
    {
     "name": "stdout",
     "output_type": "stream",
     "text": [
      "[[12.11490556  9.483759   14.56736369]\n",
      " [13.0729334  10.39425427 15.59206528]\n",
      " [10.81940227  8.94391471 12.938663  ]]\n"
     ]
    }
   ],
   "source": [
    "c1, r1 = [1, 1], 0.5\n",
    "c2, r2 = [3, 4], 0.8\n",
    "\n",
    "A, B = creerClusters(c1, r1, c2, r2)\n",
    "C = creerMatriceCout(A, B, fct_cout=euc_quadra)\n",
    "\n",
    "afficherClusters(A, B)\n",
    "print(C)"
   ]
  },
  {
   "cell_type": "code",
   "execution_count": 55,
   "metadata": {},
   "outputs": [
    {
     "name": "stdout",
     "output_type": "stream",
     "text": [
      "[[1 0 0]\n",
      " [0 0 0]\n",
      " [0 1 0]]\n",
      "[[1 0 1]\n",
      " [1 0 0]\n",
      " [0 1 0]]\n"
     ]
    }
   ],
   "source": [
    "x, phi, psi, adj = hongrois(A, B)\n",
    "print(x)\n",
    "print(adj)\n"
   ]
  },
  {
   "cell_type": "code",
   "execution_count": null,
   "metadata": {},
   "outputs": [],
   "source": []
  }
 ],
 "metadata": {
  "kernelspec": {
   "display_name": "Python 3",
   "language": "python",
   "name": "python3"
  },
  "language_info": {
   "codemirror_mode": {
    "name": "ipython",
    "version": 3
   },
   "file_extension": ".py",
   "mimetype": "text/x-python",
   "name": "python",
   "nbconvert_exporter": "python",
   "pygments_lexer": "ipython3",
   "version": "3.11.2"
  }
 },
 "nbformat": 4,
 "nbformat_minor": 2
}
