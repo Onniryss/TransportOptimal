{
 "cells": [
  {
   "cell_type": "code",
   "execution_count": 25,
   "metadata": {},
   "outputs": [],
   "source": [
    "import numpy as np\n",
    "import matplotlib.pyplot as plt\n",
    "import networkx as nx"
   ]
  },
  {
   "cell_type": "code",
   "execution_count": 3,
   "metadata": {},
   "outputs": [],
   "source": [
    "dimension = 2\n",
    "points = 5"
   ]
  },
  {
   "cell_type": "code",
   "execution_count": 4,
   "metadata": {},
   "outputs": [],
   "source": [
    "def creerPoints(centre, rayon, nb_points=points, nb_dimensions=dimension):\n",
    "    \"\"\"\n",
    "    Fonction de création de points aléatoirement dans un cercle avec un rayon et centre donnés\n",
    "    \"\"\"\n",
    "    result = np.zeros((nb_points, nb_dimensions))\n",
    "    for j in range(nb_dimensions):\n",
    "        result[:, j] += centre[j]\n",
    "    for i in range(nb_points):\n",
    "        r = rayon*np.random.uniform(0, 1)\n",
    "        theta = np.random.uniform(0, 2*np.pi)\n",
    "        result[i, 0] += r*np.cos(theta)\n",
    "        result[i, 1] += r*np.sin(theta)\n",
    "    return result\n",
    "\n",
    "def creerClusters(c1, r1, c2, r2, nb_dimensions=dimension, nb_points=points, createur=creerPoints):\n",
    "    \"\"\"\n",
    "    Crée deux clusters de points grace à la fonction de création passée en paramètre. Ils serviront de source et destination pour l'algorithme de transport\n",
    "    \"\"\"\n",
    "    return createur(c1, r1, nb_points, nb_dimensions), createur(c2, r2, nb_points, nb_dimensions)\n",
    "\n",
    "def euc_lin(p1, p2, nb_dimensions=dimension, hyperparametre=1):\n",
    "    \"\"\"\n",
    "    Une fonction de cout possible utilisant la distance euclidienne\n",
    "    \"\"\"\n",
    "    x = p2-p1\n",
    "    return hyperparametre*np.sqrt(np.dot(x, x))\n",
    "\n",
    "def euc_quadra(p1, p2, nb_dimensions=dimension, hyperparametre=1):\n",
    "    \"\"\"\n",
    "    Une fonction de cout possible utilisant la distance euclidienne au carré\n",
    "    \"\"\"\n",
    "    x = p2-p1\n",
    "    return hyperparametre*np.dot(x, x)\n",
    "\n",
    "def cout(p1, p2, nb_dimensions=dimension, fct_cout=euc_quadra, hyperparametre=1):\n",
    "    \"\"\"\n",
    "    Fonction de cout utilisant la fonction passée en paramètre. Par défaut, utilise la distance euclidienne au carré\n",
    "    \"\"\"\n",
    "    return fct_cout(p1, p2, nb_dimensions, hyperparametre)\n",
    "\n",
    "def creerMatriceCout(source, destination, fct_cout=euc_quadra, hyperparametre=1):\n",
    "    \"\"\"\n",
    "    Création de la matrice de cout C à partir des vecteurs source et destination\n",
    "    \"\"\"\n",
    "    n, p = source.shape\n",
    "    C = np.zeros((n, n))\n",
    "    for i in range(n):\n",
    "        for j in range(n):\n",
    "            C[i, j] = cout(source[i, :], destination[j, :], fct_cout=fct_cout, hyperparametre=hyperparametre)\n",
    "    return C\n",
    "\n",
    "def est_sature(i, j, c, phi, psi):\n",
    "    \"\"\"\n",
    "    Test de saturation d'un lien de la matrice de cout C\n",
    "    \"\"\"\n",
    "    return phi[i]+psi[j] == c[i, j]"
   ]
  },
  {
   "cell_type": "code",
   "execution_count": 58,
   "metadata": {},
   "outputs": [],
   "source": [
    "def afficherClusters(source, destination):\n",
    "    \"\"\"\n",
    "    Fonction d'affichage des deux clusters\n",
    "    \"\"\"\n",
    "    plt.plot(source[:, 0], source[:, 1], 'or')\n",
    "    plt.plot(destination[:, 0], destination[:, 1], 'ob')\n",
    "    plt.show()\n",
    "\n",
    "def displayGraph(P, epsilon):\n",
    "    G = nx.Graph()\n",
    "\n",
    "    n, m = P.shape\n",
    "\n",
    "    sources = [str(i) for i in range(n)]\n",
    "    destinations = [str(j)+'\\'' for j in range(m)]\n",
    "\n",
    "    # Ajout des arêtes avec des poids\n",
    "    edges = [(str(i), str(j)+'\\'', P[i, j]) for i in range(n) for j in range(m) if P[i, j] > epsilon]\n",
    "\n",
    "    # Ajout des arêtes au graphe\n",
    "    for u, v, w in edges:\n",
    "        G.add_edge(u, v, weight=w)\n",
    "\n",
    "    # Positions des nœuds pour un affichage clair\n",
    "    pos = {node: (-1, i) for i, node in enumerate(sources)}  # Sources à gauche\n",
    "    pos.update({node: (1, i) for i, node in enumerate(destinations)})  # Destinations à droite\n",
    "\n",
    "    # Dessiner les nœuds et les arêtes\n",
    "    nx.draw(G, pos, with_labels=True, node_color='lightblue', edge_color='gray', node_size=2000, font_size=12)\n",
    "\n",
    "    # Récupérer les poids des arêtes\n",
    "    edge_labels = {(u, v): w for u, v, w in edges}\n",
    "\n",
    "    # Ajouter les poids sur le graphe\n",
    "    nx.draw_networkx_edge_labels(G, pos, edge_labels=edge_labels, font_size=12)\n",
    "\n",
    "    # Affichage\n",
    "    plt.show()\n"
   ]
  },
  {
   "cell_type": "code",
   "execution_count": 59,
   "metadata": {},
   "outputs": [],
   "source": [
    "def trouverChemin(adj, pos, switch, chemin, visite):\n",
    "    n, _ = adj.shape\n",
    "\n",
    "    for counter in range(n):\n",
    "        if switch == 0 :\n",
    "            if adj[pos][counter] == 1 and visite[pos][counter] == 0:\n",
    "                chemin.append(counter)\n",
    "                visite[pos][counter] = 1\n",
    "                trouverChemin(adj, counter, not(switch), chemin, visite)\n",
    "                break\n",
    "        else :\n",
    "            if adj[counter][pos] == 1 and visite[counter][pos] == 0:\n",
    "                chemin.append(counter)\n",
    "                visite[counter][pos] = 1\n",
    "                trouverChemin(adj, counter, not(switch), chemin, visite)\n",
    "                break\n",
    "\n",
    "def inverser(x, chemin):\n",
    "    for i in range(len(chemin)-1):\n",
    "        if (i % 2 == 0):\n",
    "            x[chemin[i], chemin[i+1]] = int(not(x[chemin[i], chemin[i+1]]))\n",
    "        else:\n",
    "            x[chemin[i+1], chemin[i]] = int(not(x[chemin[i+1], chemin[i]]))\n",
    "\n",
    "def hongrois(source, destination):\n",
    "    n, p = source.shape\n",
    "    c = creerMatriceCout(source, destination) # np.array([[1, 4, 2], [3, 5, 6], [2, 1, 3]]) \n",
    "    x = np.zeros_like(c)\n",
    "    adj = np.zeros_like(c) # matrice d'adjacence bipartite\n",
    "    visite = np.zeros_like(c)\n",
    "    phi = np.zeros(n)\n",
    "    psi = np.zeros(n)\n",
    "\n",
    "    # initialisation\n",
    "\n",
    "    for i in range(n):\n",
    "        phi[i] = np.min(c[i, :])\n",
    "    \n",
    "    for j in range(n):\n",
    "        psi[j] = np.min(c[:, j]-phi)\n",
    "\n",
    "    for i in range(n):\n",
    "        for j in range(n):\n",
    "            if est_sature(i, j, c, phi, psi):\n",
    "                adj[i, j] = 1\n",
    "\n",
    "    for i in range(n):\n",
    "        for j in range(n):\n",
    "            if (adj[i, j] == 1 and not(1 in x[:, j])):\n",
    "                x[i, j] = 1\n",
    "                break\n",
    "\n",
    "    # boucle principale\n",
    "\n",
    "    depart = None\n",
    "\n",
    "    for i in range(n):\n",
    "        if not(1 in x[i, :]):\n",
    "            chemin = [i]\n",
    "            trouverChemin(adj, 1, 0, chemin, visite) #pb, il faut que le chemin finisse à droite et soit pas trop petit\n",
    "            inverser(x, chemin)\n",
    "\n",
    "    # il faut rajouter la procedure quand on a pas de chemin augmentant (page 49)\n",
    "\n",
    "    cout_transport = np.sum(phi)+np.sum(psi)\n",
    "\n",
    "    return x, adj, cout_transport\n",
    "\n"
   ]
  },
  {
   "cell_type": "code",
   "execution_count": 60,
   "metadata": {},
   "outputs": [
    {
     "data": {
      "image/png": "[encoded data removed]",
      "text/plain": [
       "<Figure size 640x480 with 1 Axes>"
      ]
     },
     "metadata": {},
     "output_type": "display_data"
    },
    {
     "name": "stdout",
     "output_type": "stream",
     "text": [
      "[[13.66188162 16.30660743 11.11944129  7.60788078 15.25546806]\n",
      " [15.21541993 17.94471114 12.50631041  8.72387356 16.912502  ]\n",
      " [17.68264507 20.58500493 14.74280027 10.58570954 19.51630854]\n",
      " [15.56929462 17.96148259 12.74257796  8.76655848 17.38685922]\n",
      " [12.73312213 15.10747491 10.22695834  6.77280395 14.3343163 ]]\n"
     ]
    }
   ],
   "source": [
    "c1, r1 = [1, 1], 0.5\n",
    "c2, r2 = [3, 4], 0.8\n",
    "\n",
    "A, B = creerClusters(c1, r1, c2, r2)\n",
    "C = creerMatriceCout(A, B, fct_cout=euc_quadra)\n",
    "\n",
    "afficherClusters(A, B)\n",
    "print(C)"
   ]
  },
  {
   "cell_type": "code",
   "execution_count": 61,
   "metadata": {},
   "outputs": [
    {
     "name": "stdout",
     "output_type": "stream",
     "text": [
      "Assignations : \n",
      "[[0. 0. 0. 0. 0.]\n",
      " [0. 0. 0. 1. 0.]\n",
      " [0. 0. 0. 0. 0.]\n",
      " [0. 0. 0. 0. 0.]\n",
      " [1. 0. 0. 0. 0.]]\n",
      "Cout total du transport :  67.76748218098578\n"
     ]
    }
   ],
   "source": [
    "x, adj, cout_transport = hongrois(A, B)\n",
    "print(\"Assignations : \")\n",
    "print(x)\n",
    "print(\"Cout total du transport : \", cout_transport)"
   ]
  },
  {
   "cell_type": "code",
   "execution_count": 62,
   "metadata": {},
   "outputs": [],
   "source": [
    "def NW(a, b):\n",
    "    n = a.size\n",
    "    m = b.size\n",
    "    i = 0\n",
    "    j = 0\n",
    "    r = a[0]\n",
    "    c = b[0]\n",
    "    P = np.zeros((n, m))\n",
    "    while i < n and j < m :\n",
    "        t = min(r, c)\n",
    "        P[i, j] = t\n",
    "        r = r-t\n",
    "        c= c-t\n",
    "        if r == 0:\n",
    "            i += 1\n",
    "            if  i < n:\n",
    "                r = a[i]\n",
    "        if c == 0:\n",
    "            j += 1\n",
    "            if j < m:\n",
    "                c = b[j]\n",
    "    return P\n"
   ]
  },
  {
   "cell_type": "code",
   "execution_count": 65,
   "metadata": {},
   "outputs": [
    {
     "name": "stdout",
     "output_type": "stream",
     "text": [
      "[[0.1  0.06 0.   0.   0.   0.  ]\n",
      " [0.   0.1  0.3  0.   0.   0.  ]\n",
      " [0.   0.   0.   0.06 0.   0.  ]\n",
      " [0.   0.   0.   0.04 0.2  0.  ]\n",
      " [0.   0.   0.   0.   0.   0.14]]\n"
     ]
    },
    {
     "data": {
      "image/png": "[encoded data removed]",
      "text/plain": [
       "<Figure size 640x480 with 1 Axes>"
      ]
     },
     "metadata": {},
     "output_type": "display_data"
    }
   ],
   "source": [
    "a = np.array([0.16, 0.4, 0.06, 0.24, 0.14])\n",
    "b = np.array([0.1, 0.16, 0.3, 0.1, 0.2, 0.14])\n",
    "P = NW(a, b).round(3)\n",
    "print(P)\n",
    "displayGraph(P, 1e-5)"
   ]
  },
  {
   "cell_type": "code",
   "execution_count": null,
   "metadata": {},
   "outputs": [],
   "source": []
  }
 ],
 "metadata": {
  "kernelspec": {
   "display_name": "Python 3",
   "language": "python",
   "name": "python3"
  },
  "language_info": {
   "codemirror_mode": {
    "name": "ipython",
    "version": 3
   },
   "file_extension": ".py",
   "mimetype": "text/x-python",
   "name": "python",
   "nbconvert_exporter": "python",
   "pygments_lexer": "ipython3",
   "version": "3.13.1"
  }
 },
 "nbformat": 4,
 "nbformat_minor": 2
}
